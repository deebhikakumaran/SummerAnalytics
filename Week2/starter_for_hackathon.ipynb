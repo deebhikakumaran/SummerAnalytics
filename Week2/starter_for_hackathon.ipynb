{
  "cells": [
    {
      "cell_type": "code",
      "execution_count": 1,
      "id": "a8cbd0db",
      "metadata": {
        "_cell_guid": "b1076dfc-b9ad-4769-8c92-a6c4dae69d19",
        "_uuid": "8f2839f25d086af736a60e9eeb907d3b93b6e0e5",
        "execution": {
          "iopub.execute_input": "2025-06-04T15:58:16.705478Z",
          "iopub.status.busy": "2025-06-04T15:58:16.705120Z",
          "iopub.status.idle": "2025-06-04T15:58:19.104523Z",
          "shell.execute_reply": "2025-06-04T15:58:19.103431Z"
        },
        "papermill": {
          "duration": 2.406058,
          "end_time": "2025-06-04T15:58:19.106134",
          "exception": false,
          "start_time": "2025-06-04T15:58:16.700076",
          "status": "completed"
        },
        "tags": [],
        "id": "a8cbd0db"
      },
      "outputs": [],
      "source": [
        "# This Python 3 environment comes with many helpful analytics libraries installed\n",
        "# It is defined by the kaggle/python Docker image: https://github.com/kaggle/docker-python\n",
        "# For example, here's several helpful packages to load\n",
        "\n",
        "import numpy as np # linear algebra\n",
        "import pandas as pd # data processing, CSV file I/O (e.g. pd.read_csv)\n",
        "\n",
        "# Input data files are available in the read-only \"../input/\" directory\n",
        "# For example, running this (by clicking run or pressing Shift+Enter) will list all files under the input directory\n",
        "\n",
        "import os\n",
        "for dirname, _, filenames in os.walk('/kaggle/input'):\n",
        "    for filename in filenames:\n",
        "        print(os.path.join(dirname, filename))\n",
        "\n",
        "# You can write up to 20GB to the current directory (/kaggle/working/) that gets preserved as output when you create a version using \"Save & Run All\"\n",
        "# You can also write temporary files to /kaggle/temp/, but they won't be saved outside of the current session"
      ]
    },
    {
      "cell_type": "code",
      "execution_count": 2,
      "id": "52fc0999",
      "metadata": {
        "execution": {
          "iopub.execute_input": "2025-06-04T15:58:19.114208Z",
          "iopub.status.busy": "2025-06-04T15:58:19.113809Z",
          "iopub.status.idle": "2025-06-04T15:58:19.269452Z",
          "shell.execute_reply": "2025-06-04T15:58:19.268010Z"
        },
        "papermill": {
          "duration": 0.161514,
          "end_time": "2025-06-04T15:58:19.271341",
          "exception": false,
          "start_time": "2025-06-04T15:58:19.109827",
          "status": "completed"
        },
        "tags": [],
        "id": "52fc0999",
        "outputId": "da8d0105-9a91-4db1-b69d-6e5f82ccbb44",
        "colab": {
          "base_uri": "https://localhost:8080/",
          "height": 321
        }
      },
      "outputs": [
        {
          "output_type": "error",
          "ename": "FileNotFoundError",
          "evalue": "[Errno 2] No such file or directory: '/kaggle/input/summer-analytics-mid-hackathon/hacktrain.csv'",
          "traceback": [
            "\u001b[0;31m---------------------------------------------------------------------------\u001b[0m",
            "\u001b[0;31mFileNotFoundError\u001b[0m                         Traceback (most recent call last)",
            "\u001b[0;32m<ipython-input-2-2347046925>\u001b[0m in \u001b[0;36m<cell line: 0>\u001b[0;34m()\u001b[0m\n\u001b[0;32m----> 1\u001b[0;31m \u001b[0mdf\u001b[0m \u001b[0;34m=\u001b[0m \u001b[0mpd\u001b[0m\u001b[0;34m.\u001b[0m\u001b[0mread_csv\u001b[0m\u001b[0;34m(\u001b[0m\u001b[0;34m\"/kaggle/input/summer-analytics-mid-hackathon/hacktrain.csv\"\u001b[0m\u001b[0;34m)\u001b[0m\u001b[0;34m\u001b[0m\u001b[0;34m\u001b[0m\u001b[0m\n\u001b[0m\u001b[1;32m      2\u001b[0m \u001b[0mdf\u001b[0m \u001b[0;31m#ignore the warnings\u001b[0m\u001b[0;34m\u001b[0m\u001b[0;34m\u001b[0m\u001b[0m\n",
            "\u001b[0;32m/usr/local/lib/python3.11/dist-packages/pandas/io/parsers/readers.py\u001b[0m in \u001b[0;36mread_csv\u001b[0;34m(filepath_or_buffer, sep, delimiter, header, names, index_col, usecols, dtype, engine, converters, true_values, false_values, skipinitialspace, skiprows, skipfooter, nrows, na_values, keep_default_na, na_filter, verbose, skip_blank_lines, parse_dates, infer_datetime_format, keep_date_col, date_parser, date_format, dayfirst, cache_dates, iterator, chunksize, compression, thousands, decimal, lineterminator, quotechar, quoting, doublequote, escapechar, comment, encoding, encoding_errors, dialect, on_bad_lines, delim_whitespace, low_memory, memory_map, float_precision, storage_options, dtype_backend)\u001b[0m\n\u001b[1;32m   1024\u001b[0m     \u001b[0mkwds\u001b[0m\u001b[0;34m.\u001b[0m\u001b[0mupdate\u001b[0m\u001b[0;34m(\u001b[0m\u001b[0mkwds_defaults\u001b[0m\u001b[0;34m)\u001b[0m\u001b[0;34m\u001b[0m\u001b[0;34m\u001b[0m\u001b[0m\n\u001b[1;32m   1025\u001b[0m \u001b[0;34m\u001b[0m\u001b[0m\n\u001b[0;32m-> 1026\u001b[0;31m     \u001b[0;32mreturn\u001b[0m \u001b[0m_read\u001b[0m\u001b[0;34m(\u001b[0m\u001b[0mfilepath_or_buffer\u001b[0m\u001b[0;34m,\u001b[0m \u001b[0mkwds\u001b[0m\u001b[0;34m)\u001b[0m\u001b[0;34m\u001b[0m\u001b[0;34m\u001b[0m\u001b[0m\n\u001b[0m\u001b[1;32m   1027\u001b[0m \u001b[0;34m\u001b[0m\u001b[0m\n\u001b[1;32m   1028\u001b[0m \u001b[0;34m\u001b[0m\u001b[0m\n",
            "\u001b[0;32m/usr/local/lib/python3.11/dist-packages/pandas/io/parsers/readers.py\u001b[0m in \u001b[0;36m_read\u001b[0;34m(filepath_or_buffer, kwds)\u001b[0m\n\u001b[1;32m    618\u001b[0m \u001b[0;34m\u001b[0m\u001b[0m\n\u001b[1;32m    619\u001b[0m     \u001b[0;31m# Create the parser.\u001b[0m\u001b[0;34m\u001b[0m\u001b[0;34m\u001b[0m\u001b[0m\n\u001b[0;32m--> 620\u001b[0;31m     \u001b[0mparser\u001b[0m \u001b[0;34m=\u001b[0m \u001b[0mTextFileReader\u001b[0m\u001b[0;34m(\u001b[0m\u001b[0mfilepath_or_buffer\u001b[0m\u001b[0;34m,\u001b[0m \u001b[0;34m**\u001b[0m\u001b[0mkwds\u001b[0m\u001b[0;34m)\u001b[0m\u001b[0;34m\u001b[0m\u001b[0;34m\u001b[0m\u001b[0m\n\u001b[0m\u001b[1;32m    621\u001b[0m \u001b[0;34m\u001b[0m\u001b[0m\n\u001b[1;32m    622\u001b[0m     \u001b[0;32mif\u001b[0m \u001b[0mchunksize\u001b[0m \u001b[0;32mor\u001b[0m \u001b[0miterator\u001b[0m\u001b[0;34m:\u001b[0m\u001b[0;34m\u001b[0m\u001b[0;34m\u001b[0m\u001b[0m\n",
            "\u001b[0;32m/usr/local/lib/python3.11/dist-packages/pandas/io/parsers/readers.py\u001b[0m in \u001b[0;36m__init__\u001b[0;34m(self, f, engine, **kwds)\u001b[0m\n\u001b[1;32m   1618\u001b[0m \u001b[0;34m\u001b[0m\u001b[0m\n\u001b[1;32m   1619\u001b[0m         \u001b[0mself\u001b[0m\u001b[0;34m.\u001b[0m\u001b[0mhandles\u001b[0m\u001b[0;34m:\u001b[0m \u001b[0mIOHandles\u001b[0m \u001b[0;34m|\u001b[0m \u001b[0;32mNone\u001b[0m \u001b[0;34m=\u001b[0m \u001b[0;32mNone\u001b[0m\u001b[0;34m\u001b[0m\u001b[0;34m\u001b[0m\u001b[0m\n\u001b[0;32m-> 1620\u001b[0;31m         \u001b[0mself\u001b[0m\u001b[0;34m.\u001b[0m\u001b[0m_engine\u001b[0m \u001b[0;34m=\u001b[0m \u001b[0mself\u001b[0m\u001b[0;34m.\u001b[0m\u001b[0m_make_engine\u001b[0m\u001b[0;34m(\u001b[0m\u001b[0mf\u001b[0m\u001b[0;34m,\u001b[0m \u001b[0mself\u001b[0m\u001b[0;34m.\u001b[0m\u001b[0mengine\u001b[0m\u001b[0;34m)\u001b[0m\u001b[0;34m\u001b[0m\u001b[0;34m\u001b[0m\u001b[0m\n\u001b[0m\u001b[1;32m   1621\u001b[0m \u001b[0;34m\u001b[0m\u001b[0m\n\u001b[1;32m   1622\u001b[0m     \u001b[0;32mdef\u001b[0m \u001b[0mclose\u001b[0m\u001b[0;34m(\u001b[0m\u001b[0mself\u001b[0m\u001b[0;34m)\u001b[0m \u001b[0;34m->\u001b[0m \u001b[0;32mNone\u001b[0m\u001b[0;34m:\u001b[0m\u001b[0;34m\u001b[0m\u001b[0;34m\u001b[0m\u001b[0m\n",
            "\u001b[0;32m/usr/local/lib/python3.11/dist-packages/pandas/io/parsers/readers.py\u001b[0m in \u001b[0;36m_make_engine\u001b[0;34m(self, f, engine)\u001b[0m\n\u001b[1;32m   1878\u001b[0m                 \u001b[0;32mif\u001b[0m \u001b[0;34m\"b\"\u001b[0m \u001b[0;32mnot\u001b[0m \u001b[0;32min\u001b[0m \u001b[0mmode\u001b[0m\u001b[0;34m:\u001b[0m\u001b[0;34m\u001b[0m\u001b[0;34m\u001b[0m\u001b[0m\n\u001b[1;32m   1879\u001b[0m                     \u001b[0mmode\u001b[0m \u001b[0;34m+=\u001b[0m \u001b[0;34m\"b\"\u001b[0m\u001b[0;34m\u001b[0m\u001b[0;34m\u001b[0m\u001b[0m\n\u001b[0;32m-> 1880\u001b[0;31m             self.handles = get_handle(\n\u001b[0m\u001b[1;32m   1881\u001b[0m                 \u001b[0mf\u001b[0m\u001b[0;34m,\u001b[0m\u001b[0;34m\u001b[0m\u001b[0;34m\u001b[0m\u001b[0m\n\u001b[1;32m   1882\u001b[0m                 \u001b[0mmode\u001b[0m\u001b[0;34m,\u001b[0m\u001b[0;34m\u001b[0m\u001b[0;34m\u001b[0m\u001b[0m\n",
            "\u001b[0;32m/usr/local/lib/python3.11/dist-packages/pandas/io/common.py\u001b[0m in \u001b[0;36mget_handle\u001b[0;34m(path_or_buf, mode, encoding, compression, memory_map, is_text, errors, storage_options)\u001b[0m\n\u001b[1;32m    871\u001b[0m         \u001b[0;32mif\u001b[0m \u001b[0mioargs\u001b[0m\u001b[0;34m.\u001b[0m\u001b[0mencoding\u001b[0m \u001b[0;32mand\u001b[0m \u001b[0;34m\"b\"\u001b[0m \u001b[0;32mnot\u001b[0m \u001b[0;32min\u001b[0m \u001b[0mioargs\u001b[0m\u001b[0;34m.\u001b[0m\u001b[0mmode\u001b[0m\u001b[0;34m:\u001b[0m\u001b[0;34m\u001b[0m\u001b[0;34m\u001b[0m\u001b[0m\n\u001b[1;32m    872\u001b[0m             \u001b[0;31m# Encoding\u001b[0m\u001b[0;34m\u001b[0m\u001b[0;34m\u001b[0m\u001b[0m\n\u001b[0;32m--> 873\u001b[0;31m             handle = open(\n\u001b[0m\u001b[1;32m    874\u001b[0m                 \u001b[0mhandle\u001b[0m\u001b[0;34m,\u001b[0m\u001b[0;34m\u001b[0m\u001b[0;34m\u001b[0m\u001b[0m\n\u001b[1;32m    875\u001b[0m                 \u001b[0mioargs\u001b[0m\u001b[0;34m.\u001b[0m\u001b[0mmode\u001b[0m\u001b[0;34m,\u001b[0m\u001b[0;34m\u001b[0m\u001b[0;34m\u001b[0m\u001b[0m\n",
            "\u001b[0;31mFileNotFoundError\u001b[0m: [Errno 2] No such file or directory: '/kaggle/input/summer-analytics-mid-hackathon/hacktrain.csv'"
          ]
        }
      ],
      "source": [
        "df = pd.read_csv(\"/kaggle/input/summer-analytics-mid-hackathon/hacktrain.csv\")\n",
        "df #ignore the warnings"
      ]
    },
    {
      "cell_type": "code",
      "execution_count": null,
      "id": "92e3be16",
      "metadata": {
        "execution": {
          "iopub.execute_input": "2025-06-04T15:58:19.281351Z",
          "iopub.status.busy": "2025-06-04T15:58:19.280881Z",
          "iopub.status.idle": "2025-06-04T15:58:19.297749Z",
          "shell.execute_reply": "2025-06-04T15:58:19.296541Z"
        },
        "papermill": {
          "duration": 0.023701,
          "end_time": "2025-06-04T15:58:19.299357",
          "exception": false,
          "start_time": "2025-06-04T15:58:19.275656",
          "status": "completed"
        },
        "tags": [],
        "id": "92e3be16",
        "outputId": "0320b7a2-656c-4936-88d4-2d39f1042072"
      },
      "outputs": [
        {
          "data": {
            "text/plain": [
              "Unnamed: 0       0\n",
              "ID               0\n",
              "class            0\n",
              "20150720_N     560\n",
              "20150602_N    1200\n",
              "20150517_N     800\n",
              "20150501_N     960\n",
              "20150415_N     480\n",
              "20150330_N    1120\n",
              "20150314_N     720\n",
              "20150226_N    1360\n",
              "20150210_N     640\n",
              "20150125_N    1040\n",
              "20150109_N     880\n",
              "20141117_N    1280\n",
              "20141101_N     400\n",
              "20141016_N    1440\n",
              "20140930_N     800\n",
              "20140813_N     560\n",
              "20140626_N    1600\n",
              "20140610_N     480\n",
              "20140525_N     720\n",
              "20140509_N     880\n",
              "20140423_N    1760\n",
              "20140407_N     640\n",
              "20140322_N    1120\n",
              "20140218_N    1440\n",
              "20140202_N     560\n",
              "20140117_N    1200\n",
              "20140101_N     400\n",
              "dtype: int64"
            ]
          },
          "execution_count": 3,
          "metadata": {},
          "output_type": "execute_result"
        }
      ],
      "source": [
        "df.isnull().sum()"
      ]
    },
    {
      "cell_type": "code",
      "execution_count": null,
      "id": "8646c661",
      "metadata": {
        "execution": {
          "iopub.execute_input": "2025-06-04T15:58:19.308529Z",
          "iopub.status.busy": "2025-06-04T15:58:19.308132Z",
          "iopub.status.idle": "2025-06-04T15:58:19.339698Z",
          "shell.execute_reply": "2025-06-04T15:58:19.338734Z"
        },
        "papermill": {
          "duration": 0.037963,
          "end_time": "2025-06-04T15:58:19.341331",
          "exception": false,
          "start_time": "2025-06-04T15:58:19.303368",
          "status": "completed"
        },
        "tags": [],
        "id": "8646c661",
        "outputId": "155e8d89-667f-49aa-c2ad-708da3d8d9e3"
      },
      "outputs": [
        {
          "data": {
            "text/plain": [
              "Unnamed: 0    0\n",
              "ID            0\n",
              "class         0\n",
              "20150720_N    0\n",
              "20150602_N    0\n",
              "20150517_N    0\n",
              "20150501_N    0\n",
              "20150415_N    0\n",
              "20150330_N    0\n",
              "20150314_N    0\n",
              "20150226_N    0\n",
              "20150210_N    0\n",
              "20150125_N    0\n",
              "20150109_N    0\n",
              "20141117_N    0\n",
              "20141101_N    0\n",
              "20141016_N    0\n",
              "20140930_N    0\n",
              "20140813_N    0\n",
              "20140626_N    0\n",
              "20140610_N    0\n",
              "20140525_N    0\n",
              "20140509_N    0\n",
              "20140423_N    0\n",
              "20140407_N    0\n",
              "20140322_N    0\n",
              "20140218_N    0\n",
              "20140202_N    0\n",
              "20140117_N    0\n",
              "20140101_N    0\n",
              "dtype: int64"
            ]
          },
          "execution_count": 4,
          "metadata": {},
          "output_type": "execute_result"
        }
      ],
      "source": [
        "df.fillna(df.mean(numeric_only=True), inplace=True) #simple mean imputation [This part has a lot of scope for imporovement.]\n",
        "#keep in mind that the data is inherently noisy and the test dataset is not.\n",
        "df.isnull().sum()"
      ]
    },
    {
      "cell_type": "code",
      "execution_count": null,
      "id": "c5a6f9fa",
      "metadata": {
        "execution": {
          "iopub.execute_input": "2025-06-04T15:58:19.350301Z",
          "iopub.status.busy": "2025-06-04T15:58:19.349991Z",
          "iopub.status.idle": "2025-06-04T15:58:21.995502Z",
          "shell.execute_reply": "2025-06-04T15:58:21.992246Z"
        },
        "papermill": {
          "duration": 2.652139,
          "end_time": "2025-06-04T15:58:21.997405",
          "exception": false,
          "start_time": "2025-06-04T15:58:19.345266",
          "status": "completed"
        },
        "tags": [],
        "id": "c5a6f9fa",
        "outputId": "21b66ca8-14aa-4ef7-f399-2ae89726d529"
      },
      "outputs": [
        {
          "name": "stdout",
          "output_type": "stream",
          "text": [
            "              precision    recall  f1-score   support\n",
            "\n",
            "        farm       0.76      0.68      0.72       168\n",
            "      forest       0.96      0.99      0.97      1232\n",
            "       grass       0.00      0.00      0.00        39\n",
            "  impervious       0.64      0.84      0.73       134\n",
            "     orchard       0.00      0.00      0.00         6\n",
            "       water       0.00      0.00      0.00        21\n",
            "\n",
            "    accuracy                           0.90      1600\n",
            "   macro avg       0.39      0.42      0.40      1600\n",
            "weighted avg       0.87      0.90      0.88      1600\n",
            "\n"
          ]
        },
        {
          "name": "stderr",
          "output_type": "stream",
          "text": [
            "/usr/local/lib/python3.11/dist-packages/sklearn/linear_model/_logistic.py:458: ConvergenceWarning: lbfgs failed to converge (status=1):\n",
            "STOP: TOTAL NO. OF ITERATIONS REACHED LIMIT.\n",
            "\n",
            "Increase the number of iterations (max_iter) or scale the data as shown in:\n",
            "    https://scikit-learn.org/stable/modules/preprocessing.html\n",
            "Please also refer to the documentation for alternative solver options:\n",
            "    https://scikit-learn.org/stable/modules/linear_model.html#logistic-regression\n",
            "  n_iter_i = _check_optimize_result(\n",
            "/usr/local/lib/python3.11/dist-packages/sklearn/metrics/_classification.py:1344: UndefinedMetricWarning: Precision and F-score are ill-defined and being set to 0.0 in labels with no predicted samples. Use `zero_division` parameter to control this behavior.\n",
            "  _warn_prf(average, modifier, msg_start, len(result))\n",
            "/usr/local/lib/python3.11/dist-packages/sklearn/metrics/_classification.py:1344: UndefinedMetricWarning: Precision and F-score are ill-defined and being set to 0.0 in labels with no predicted samples. Use `zero_division` parameter to control this behavior.\n",
            "  _warn_prf(average, modifier, msg_start, len(result))\n",
            "/usr/local/lib/python3.11/dist-packages/sklearn/metrics/_classification.py:1344: UndefinedMetricWarning: Precision and F-score are ill-defined and being set to 0.0 in labels with no predicted samples. Use `zero_division` parameter to control this behavior.\n",
            "  _warn_prf(average, modifier, msg_start, len(result))\n"
          ]
        }
      ],
      "source": [
        "import pandas as pd\n",
        "from sklearn.linear_model import LogisticRegression\n",
        "from sklearn.model_selection import train_test_split\n",
        "from sklearn.preprocessing import LabelEncoder\n",
        "from sklearn.metrics import classification_report\n",
        "\n",
        "# Drop ID column\n",
        "df.drop(columns=['ID'], inplace=True)\n",
        "\n",
        "# Encode class column (if it's categorical)\n",
        "label_encoder = LabelEncoder()\n",
        "df['class'] = label_encoder.fit_transform(df['class'])\n",
        "\n",
        "# Split into features and target\n",
        "X = df.drop(columns=['class'])\n",
        "y = df['class']\n",
        "\n",
        "# Train-test split\n",
        "X_train, X_test, y_train, y_test = train_test_split(\n",
        "    X, y, test_size=0.2, random_state=42, stratify=y)\n",
        "\n",
        "# Fit multinomial logistic regression\n",
        "model = LogisticRegression(\n",
        "    multi_class='multinomial',\n",
        "    solver='lbfgs',\n",
        "    max_iter=10\n",
        ")\n",
        "model.fit(X_train, y_train)\n",
        "\n",
        "# Predict on test set\n",
        "y_pred = model.predict(X_test)\n",
        "\n",
        "# Classification report with all original class labels\n",
        "print(classification_report(\n",
        "    y_test,\n",
        "    y_pred,\n",
        "    labels=list(range(len(label_encoder.classes_))),\n",
        "    target_names=label_encoder.classes_\n",
        "))\n"
      ]
    },
    {
      "cell_type": "code",
      "execution_count": null,
      "id": "ff1cd1b8",
      "metadata": {
        "execution": {
          "iopub.execute_input": "2025-06-04T15:58:22.013108Z",
          "iopub.status.busy": "2025-06-04T15:58:22.012559Z",
          "iopub.status.idle": "2025-06-04T15:58:22.070775Z",
          "shell.execute_reply": "2025-06-04T15:58:22.069883Z"
        },
        "papermill": {
          "duration": 0.068872,
          "end_time": "2025-06-04T15:58:22.072964",
          "exception": false,
          "start_time": "2025-06-04T15:58:22.004092",
          "status": "completed"
        },
        "tags": [],
        "id": "ff1cd1b8",
        "outputId": "e22ab162-25ac-4aa4-db58-5d0664d234e8"
      },
      "outputs": [
        {
          "data": {
            "text/plain": [
              "(2845, 29)"
            ]
          },
          "execution_count": 6,
          "metadata": {},
          "output_type": "execute_result"
        }
      ],
      "source": [
        "test_data = pd.read_csv(\"/kaggle/input/summer-analytics-mid-hackathon/hacktest.csv\")\n",
        "test_data.shape"
      ]
    },
    {
      "cell_type": "code",
      "execution_count": null,
      "id": "ac73a96b",
      "metadata": {
        "execution": {
          "iopub.execute_input": "2025-06-04T15:58:22.083517Z",
          "iopub.status.busy": "2025-06-04T15:58:22.083182Z",
          "iopub.status.idle": "2025-06-04T15:58:22.089394Z",
          "shell.execute_reply": "2025-06-04T15:58:22.088300Z"
        },
        "papermill": {
          "duration": 0.013382,
          "end_time": "2025-06-04T15:58:22.091265",
          "exception": false,
          "start_time": "2025-06-04T15:58:22.077883",
          "status": "completed"
        },
        "tags": [],
        "id": "ac73a96b"
      },
      "outputs": [],
      "source": [
        "ID=test_data['ID']\n",
        "test_data.drop(['ID'],axis=1,inplace=True)"
      ]
    },
    {
      "cell_type": "code",
      "execution_count": null,
      "id": "e65b77a4",
      "metadata": {
        "execution": {
          "iopub.execute_input": "2025-06-04T15:58:22.100828Z",
          "iopub.status.busy": "2025-06-04T15:58:22.100506Z",
          "iopub.status.idle": "2025-06-04T15:58:22.107742Z",
          "shell.execute_reply": "2025-06-04T15:58:22.106845Z"
        },
        "papermill": {
          "duration": 0.013618,
          "end_time": "2025-06-04T15:58:22.109275",
          "exception": false,
          "start_time": "2025-06-04T15:58:22.095657",
          "status": "completed"
        },
        "tags": [],
        "id": "e65b77a4"
      },
      "outputs": [],
      "source": [
        "y_test = model.predict(test_data)"
      ]
    },
    {
      "cell_type": "code",
      "execution_count": null,
      "id": "44be4c4c",
      "metadata": {
        "execution": {
          "iopub.execute_input": "2025-06-04T15:58:22.118877Z",
          "iopub.status.busy": "2025-06-04T15:58:22.118550Z",
          "iopub.status.idle": "2025-06-04T15:58:22.124893Z",
          "shell.execute_reply": "2025-06-04T15:58:22.124077Z"
        },
        "papermill": {
          "duration": 0.01289,
          "end_time": "2025-06-04T15:58:22.126324",
          "exception": false,
          "start_time": "2025-06-04T15:58:22.113434",
          "status": "completed"
        },
        "tags": [],
        "id": "44be4c4c",
        "outputId": "44309417-8925-48fc-9c15-1ebe962440c7"
      },
      "outputs": [
        {
          "data": {
            "text/plain": [
              "array([1, 1, 1, ..., 3, 3, 3])"
            ]
          },
          "execution_count": 9,
          "metadata": {},
          "output_type": "execute_result"
        }
      ],
      "source": [
        "y_test"
      ]
    },
    {
      "cell_type": "code",
      "execution_count": null,
      "id": "aeee262b",
      "metadata": {
        "execution": {
          "iopub.execute_input": "2025-06-04T15:58:22.135812Z",
          "iopub.status.busy": "2025-06-04T15:58:22.135493Z",
          "iopub.status.idle": "2025-06-04T15:58:22.142058Z",
          "shell.execute_reply": "2025-06-04T15:58:22.141224Z"
        },
        "papermill": {
          "duration": 0.013121,
          "end_time": "2025-06-04T15:58:22.143689",
          "exception": false,
          "start_time": "2025-06-04T15:58:22.130568",
          "status": "completed"
        },
        "tags": [],
        "id": "aeee262b",
        "outputId": "fe8cfead-024f-405e-d5f9-7708908db823"
      },
      "outputs": [
        {
          "data": {
            "text/plain": [
              "array(['forest', 'forest', 'forest', ..., 'impervious', 'impervious',\n",
              "       'impervious'], dtype=object)"
            ]
          },
          "execution_count": 10,
          "metadata": {},
          "output_type": "execute_result"
        }
      ],
      "source": [
        "y_decoded = label_encoder.inverse_transform(y_test)\n",
        "y_decoded"
      ]
    },
    {
      "cell_type": "code",
      "execution_count": null,
      "id": "e10db231",
      "metadata": {
        "execution": {
          "iopub.execute_input": "2025-06-04T15:58:22.153558Z",
          "iopub.status.busy": "2025-06-04T15:58:22.153118Z",
          "iopub.status.idle": "2025-06-04T15:58:22.158731Z",
          "shell.execute_reply": "2025-06-04T15:58:22.157523Z"
        },
        "papermill": {
          "duration": 0.012481,
          "end_time": "2025-06-04T15:58:22.160251",
          "exception": false,
          "start_time": "2025-06-04T15:58:22.147770",
          "status": "completed"
        },
        "tags": [],
        "id": "e10db231"
      },
      "outputs": [],
      "source": [
        "result = pd.DataFrame({\n",
        "    'ID': ID,\n",
        "    'class': y_decoded\n",
        "})"
      ]
    },
    {
      "cell_type": "code",
      "execution_count": null,
      "id": "9906b67f",
      "metadata": {
        "execution": {
          "iopub.execute_input": "2025-06-04T15:58:22.169987Z",
          "iopub.status.busy": "2025-06-04T15:58:22.169596Z",
          "iopub.status.idle": "2025-06-04T15:58:22.179704Z",
          "shell.execute_reply": "2025-06-04T15:58:22.178864Z"
        },
        "papermill": {
          "duration": 0.01673,
          "end_time": "2025-06-04T15:58:22.181310",
          "exception": false,
          "start_time": "2025-06-04T15:58:22.164580",
          "status": "completed"
        },
        "tags": [],
        "id": "9906b67f",
        "outputId": "a282305b-51b7-4860-cfaa-ac84ad1a8be1"
      },
      "outputs": [
        {
          "data": {
            "text/html": [
              "<div>\n",
              "<style scoped>\n",
              "    .dataframe tbody tr th:only-of-type {\n",
              "        vertical-align: middle;\n",
              "    }\n",
              "\n",
              "    .dataframe tbody tr th {\n",
              "        vertical-align: top;\n",
              "    }\n",
              "\n",
              "    .dataframe thead th {\n",
              "        text-align: right;\n",
              "    }\n",
              "</style>\n",
              "<table border=\"1\" class=\"dataframe\">\n",
              "  <thead>\n",
              "    <tr style=\"text-align: right;\">\n",
              "      <th></th>\n",
              "      <th>ID</th>\n",
              "      <th>class</th>\n",
              "    </tr>\n",
              "  </thead>\n",
              "  <tbody>\n",
              "    <tr>\n",
              "      <th>0</th>\n",
              "      <td>1</td>\n",
              "      <td>forest</td>\n",
              "    </tr>\n",
              "    <tr>\n",
              "      <th>1</th>\n",
              "      <td>2</td>\n",
              "      <td>forest</td>\n",
              "    </tr>\n",
              "    <tr>\n",
              "      <th>2</th>\n",
              "      <td>3</td>\n",
              "      <td>forest</td>\n",
              "    </tr>\n",
              "    <tr>\n",
              "      <th>3</th>\n",
              "      <td>4</td>\n",
              "      <td>forest</td>\n",
              "    </tr>\n",
              "    <tr>\n",
              "      <th>4</th>\n",
              "      <td>5</td>\n",
              "      <td>forest</td>\n",
              "    </tr>\n",
              "    <tr>\n",
              "      <th>...</th>\n",
              "      <td>...</td>\n",
              "      <td>...</td>\n",
              "    </tr>\n",
              "    <tr>\n",
              "      <th>2840</th>\n",
              "      <td>2841</td>\n",
              "      <td>impervious</td>\n",
              "    </tr>\n",
              "    <tr>\n",
              "      <th>2841</th>\n",
              "      <td>2842</td>\n",
              "      <td>impervious</td>\n",
              "    </tr>\n",
              "    <tr>\n",
              "      <th>2842</th>\n",
              "      <td>2843</td>\n",
              "      <td>impervious</td>\n",
              "    </tr>\n",
              "    <tr>\n",
              "      <th>2843</th>\n",
              "      <td>2844</td>\n",
              "      <td>impervious</td>\n",
              "    </tr>\n",
              "    <tr>\n",
              "      <th>2844</th>\n",
              "      <td>2845</td>\n",
              "      <td>impervious</td>\n",
              "    </tr>\n",
              "  </tbody>\n",
              "</table>\n",
              "<p>2845 rows × 2 columns</p>\n",
              "</div>"
            ],
            "text/plain": [
              "        ID       class\n",
              "0        1      forest\n",
              "1        2      forest\n",
              "2        3      forest\n",
              "3        4      forest\n",
              "4        5      forest\n",
              "...    ...         ...\n",
              "2840  2841  impervious\n",
              "2841  2842  impervious\n",
              "2842  2843  impervious\n",
              "2843  2844  impervious\n",
              "2844  2845  impervious\n",
              "\n",
              "[2845 rows x 2 columns]"
            ]
          },
          "execution_count": 12,
          "metadata": {},
          "output_type": "execute_result"
        }
      ],
      "source": [
        "result"
      ]
    },
    {
      "cell_type": "code",
      "execution_count": null,
      "id": "484c74df",
      "metadata": {
        "execution": {
          "iopub.execute_input": "2025-06-04T15:58:22.191842Z",
          "iopub.status.busy": "2025-06-04T15:58:22.191520Z",
          "iopub.status.idle": "2025-06-04T15:58:22.204266Z",
          "shell.execute_reply": "2025-06-04T15:58:22.203246Z"
        },
        "papermill": {
          "duration": 0.020066,
          "end_time": "2025-06-04T15:58:22.206173",
          "exception": false,
          "start_time": "2025-06-04T15:58:22.186107",
          "status": "completed"
        },
        "tags": [],
        "id": "484c74df"
      },
      "outputs": [],
      "source": [
        "result.to_csv(\"submission.csv\", index=False) #this file will appear under the output section of the right navbar. You need to submit this csv file"
      ]
    },
    {
      "cell_type": "code",
      "execution_count": null,
      "id": "60bc6119",
      "metadata": {
        "papermill": {
          "duration": 0.004107,
          "end_time": "2025-06-04T15:58:22.214773",
          "exception": false,
          "start_time": "2025-06-04T15:58:22.210666",
          "status": "completed"
        },
        "tags": [],
        "id": "60bc6119"
      },
      "outputs": [],
      "source": []
    }
  ],
  "metadata": {
    "kaggle": {
      "accelerator": "none",
      "dataSources": [
        {
          "databundleVersionId": 12585144,
          "sourceId": 104491,
          "sourceType": "competition"
        }
      ],
      "dockerImageVersionId": 31040,
      "isGpuEnabled": false,
      "isInternetEnabled": true,
      "language": "python",
      "sourceType": "notebook"
    },
    "kernelspec": {
      "display_name": "Python 3",
      "name": "python3"
    },
    "language_info": {
      "codemirror_mode": {
        "name": "ipython",
        "version": 3
      },
      "file_extension": ".py",
      "mimetype": "text/x-python",
      "name": "python",
      "nbconvert_exporter": "python",
      "pygments_lexer": "ipython3",
      "version": "3.11.11"
    },
    "papermill": {
      "default_parameters": {},
      "duration": 12.460836,
      "end_time": "2025-06-04T15:58:22.939774",
      "environment_variables": {},
      "exception": null,
      "input_path": "__notebook__.ipynb",
      "output_path": "__notebook__.ipynb",
      "parameters": {},
      "start_time": "2025-06-04T15:58:10.478938",
      "version": "2.6.0"
    },
    "colab": {
      "provenance": [],
      "gpuType": "T4"
    },
    "accelerator": "GPU"
  },
  "nbformat": 4,
  "nbformat_minor": 5
}